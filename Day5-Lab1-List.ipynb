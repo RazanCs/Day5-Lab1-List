{
 "cells": [
  {
   "cell_type": "code",
   "execution_count": 17,
   "id": "d37414f6",
   "metadata": {},
   "outputs": [
    {
     "name": "stdout",
     "output_type": "stream",
     "text": [
      "[4, 30, 2, 10]\n",
      "Sum of all elements in given list:  139\n",
      "Largest element is: 45\n",
      "[5, 4, 17, 19, 30, 2]\n"
     ]
    }
   ],
   "source": [
    "total = 0\n",
    "list=[5, 4, 17, 19, 30, 2, 7, 10, 45]\n",
    "newlist = []\n",
    "for ele in range(0, len(list)):\n",
    "    total = total + list[ele]\n",
    "for x in list:\n",
    " if x% 2 == 0:\n",
    "    newlist.append(x)\n",
    "\n",
    "print(newlist)\n",
    "print(\"Sum of all elements in given list: \", total)\n",
    "print(\"Largest element is:\", max(list))\n",
    "print(list[0:6])"
   ]
  },
  {
   "cell_type": "code",
   "execution_count": null,
   "id": "b23d7a82",
   "metadata": {},
   "outputs": [],
   "source": []
  },
  {
   "cell_type": "code",
   "execution_count": null,
   "id": "2f1bdc80",
   "metadata": {},
   "outputs": [],
   "source": []
  }
 ],
 "metadata": {
  "kernelspec": {
   "display_name": "Python 3 (ipykernel)",
   "language": "python",
   "name": "python3"
  },
  "language_info": {
   "codemirror_mode": {
    "name": "ipython",
    "version": 3
   },
   "file_extension": ".py",
   "mimetype": "text/x-python",
   "name": "python",
   "nbconvert_exporter": "python",
   "pygments_lexer": "ipython3",
   "version": "3.9.12"
  }
 },
 "nbformat": 4,
 "nbformat_minor": 5
}
